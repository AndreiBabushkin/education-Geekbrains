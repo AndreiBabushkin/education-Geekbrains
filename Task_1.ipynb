{
 "cells": [
  {
   "cell_type": "markdown",
   "id": "0690bd3d",
   "metadata": {},
   "source": [
    "## Условие 2"
   ]
  },
  {
   "cell_type": "markdown",
   "id": "06cd5426",
   "metadata": {},
   "source": [
    "На складе лежат разные фрукты в разном количестве.\n",
    "Нужно написать функцию, которая на вход принимает любое количество названий фруктов и их количество, а возвращает общее количество фруктов на складе\n"
   ]
  },
  {
   "cell_type": "code",
   "execution_count": 3,
   "id": "c5836760",
   "metadata": {},
   "outputs": [
    {
     "data": {
      "text/plain": [
       "14"
      ]
     },
     "execution_count": 3,
     "metadata": {},
     "output_type": "execute_result"
    }
   ],
   "source": [
    "def fruits_s(**kwargs):\n",
    "    list_t = []\n",
    "    for i in kwargs.values():\n",
    "        list_t.append(i)\n",
    "    return sum(list_t)\n",
    "fruits_s(apple=3, bananas=2, pear=4, f=5)"
   ]
  },
  {
   "cell_type": "markdown",
   "id": "87851bca",
   "metadata": {},
   "source": [
    "## Условие 3"
   ]
  },
  {
   "cell_type": "markdown",
   "id": "9f690a80",
   "metadata": {},
   "source": [
    "Дан список с затратами на рекламу. Но в данных есть ошибки, некоторые затраты имеют отрицательную величину. Удалите такие значения из списка и посчитайте суммарные затраты\n",
    "[100, 125, -90, 345, 655, -1, 0, 200]\n",
    "Используйте list comprehensions"
   ]
  },
  {
   "cell_type": "code",
   "execution_count": 5,
   "id": "8468dfcd",
   "metadata": {},
   "outputs": [
    {
     "data": {
      "text/plain": [
       "1425"
      ]
     },
     "execution_count": 5,
     "metadata": {},
     "output_type": "execute_result"
    }
   ],
   "source": [
    "list_ = [100, 125, -90, 345, 655, -1, 0, 200] \n",
    "list_new = sum([i for i in list_ if i > 0])\n",
    "list_new"
   ]
  },
  {
   "cell_type": "markdown",
   "id": "d6e5e45e",
   "metadata": {},
   "source": [
    "## Условие 4"
   ]
  },
  {
   "cell_type": "markdown",
   "id": "5cfacf6f",
   "metadata": {},
   "source": [
    "Даны два списка.\n",
    "Дата покупки\n",
    "['2021-09-14', '2021-12-15', '2021-09-08', '2021-12-05', '2021-10-09', '2021-09-30', '2021-12-22', '2021-11-29', '2021-12-24', '2021-11-26', '2021-10-27', '2021-12-18', '2021-11-09', '2021-11-23', '2021-09-27', '2021-10-02', '2021-12-27', '2021-09-20', '2021-12-13', '2021-11-01', '2021-11-09', '2021-12-06', '2021-12-08', '2021-10-09', '2021-10-31', '2021-09-30', '2021-11-09', '2021-12-13', '2021-10-26', '2021-12-09']\n",
    "Суммы покупок по датам\n",
    "[1270, 8413, 9028, 3703, 5739, 4095, 295, 4944, 5723, 3701, 4471, 651, 7037, 4274, 6275, 4988, 6930, 2971, 6592, 2004, 2822, 519, 3406, 2732, 5015, 2008, 316, 6333, 5700, 2887]"
   ]
  },
  {
   "cell_type": "markdown",
   "id": "f41bce8c",
   "metadata": {},
   "source": [
    "### 4.1 \n",
    "Найдите, какая выручка у компании в ноябре\n",
    "Используйте list comprehensions"
   ]
  },
  {
   "cell_type": "code",
   "execution_count": 8,
   "id": "66fd4287",
   "metadata": {},
   "outputs": [
    {
     "data": {
      "text/plain": [
       "25098"
      ]
     },
     "execution_count": 8,
     "metadata": {},
     "output_type": "execute_result"
    }
   ],
   "source": [
    "date_pur = ['2021-09-14', '2021-12-15', '2021-09-08', '2021-12-05', '2021-10-09', '2021-09-30', '2021-12-22', '2021-11-29', '2021-12-24', '2021-11-26', '2021-10-27', '2021-12-18', '2021-11-09', '2021-11-23', '2021-09-27', '2021-10-02', '2021-12-27', '2021-09-20', '2021-12-13', '2021-11-01', '2021-11-09', '2021-12-06', '2021-12-08', '2021-10-09', '2021-10-31', '2021-09-30', '2021-11-09', '2021-12-13', '2021-10-26', '2021-12-09']\n",
    "sum_pur = [1270, 8413, 9028, 3703, 5739, 4095, 295, 4944, 5723, 3701, 4471, 651, 7037, 4274, 6275, 4988, 6930, 2971, 6592, 2004, 2822, 519, 3406, 2732, 5015, 2008, 316, 6333, 5700, 2887]\n",
    "revenue = sum([sum_pur[k] for k, v in enumerate(date_pur) if '11' in v.split('-')])\n",
    "revenue"
   ]
  },
  {
   "cell_type": "markdown",
   "id": "c78c2877",
   "metadata": {},
   "source": [
    "### 4.2 \n",
    "Найдите выручку компании в зависимости от месяца\n",
    "Для этого напишите функцию, которая на вход принимает список с датами и список с выручкой, а на выходе словарь, где ключи - это месяцы, а значения - это выручка.\n",
    "Используйте аннотирование типов."
   ]
  },
  {
   "cell_type": "code",
   "execution_count": 10,
   "id": "ee70b4e1",
   "metadata": {},
   "outputs": [
    {
     "data": {
      "text/plain": [
       "{'01': 0,\n",
       " '02': 0,\n",
       " '03': 0,\n",
       " '04': 0,\n",
       " '05': 0,\n",
       " '06': 0,\n",
       " '07': 0,\n",
       " '08': 0,\n",
       " '09': 25647,\n",
       " '10': 28645,\n",
       " '11': 25098,\n",
       " '12': 45452}"
      ]
     },
     "execution_count": 10,
     "metadata": {},
     "output_type": "execute_result"
    }
   ],
   "source": [
    "def mon_pur(date_: list, sum_pur: list) -> dict:\n",
    "    list_1, list_2, list_3, list_4, list_5, list_6, list_7, list_8, list_9, list_10, list_11, list_12 = [], [], [], [],\\\n",
    "                                                                                                        [], [], [], [],\\\n",
    "                                                                                                        [], [], [], []\n",
    "    for k, v in enumerate(date_):\n",
    "        if v.split('-')[1] == '01':\n",
    "            list_1.append(sum_pur[k])\n",
    "        if v.split('-')[1] == '02':\n",
    "            list_2.append(sum_pur[k])\n",
    "        if v.split('-')[1] == '03':\n",
    "            list_3.append(sum_pur[k])\n",
    "        if v.split('-')[1] == '04':\n",
    "            list_4.append(sum_pur[k])\n",
    "        if v.split('-')[1] == '05':\n",
    "            list_5.append(sum_pur[k])\n",
    "        if v.split('-')[1] == '06':\n",
    "            list_6.append(sum_pur[k])\n",
    "        if v.split('-')[1] == '07':\n",
    "            list_7.append(sum_pur[k])\n",
    "        if v.split('-')[1] == '08':\n",
    "            list_8.append(sum_pur[k])\n",
    "        if v.split('-')[1] == '09':\n",
    "            list_9.append(sum_pur[k])\n",
    "        if v.split('-')[1] == '10':\n",
    "            list_10.append(sum_pur[k])\n",
    "        if v.split('-')[1] == '11':\n",
    "            list_11.append(sum_pur[k])\n",
    "        if v.split('-')[1] == '12':\n",
    "            list_12.append(sum_pur[k])\n",
    "    return {'01': sum(list_1),\n",
    "            '02': sum(list_2),\n",
    "            '03': sum(list_3),\n",
    "            '04': sum(list_4),\n",
    "            '05': sum(list_5),\n",
    "            '06': sum(list_6),\n",
    "            '07': sum(list_7),\n",
    "            '08': sum(list_8),\n",
    "            '09': sum(list_9),\n",
    "            '10': sum(list_10),\n",
    "            '11': sum(list_11),\n",
    "            '12': sum(list_12),\n",
    "            }\n",
    "\n",
    "mon_pur(date_pur, sum_pur)"
   ]
  },
  {
   "cell_type": "code",
   "execution_count": null,
   "id": "16f25a77",
   "metadata": {},
   "outputs": [],
   "source": []
  }
 ],
 "metadata": {
  "kernelspec": {
   "display_name": "Python 3 (ipykernel)",
   "language": "python",
   "name": "python3"
  },
  "language_info": {
   "codemirror_mode": {
    "name": "ipython",
    "version": 3
   },
   "file_extension": ".py",
   "mimetype": "text/x-python",
   "name": "python",
   "nbconvert_exporter": "python",
   "pygments_lexer": "ipython3",
   "version": "3.9.12"
  }
 },
 "nbformat": 4,
 "nbformat_minor": 5
}
